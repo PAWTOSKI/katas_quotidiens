{
 "cells": [
  {
   "cell_type": "code",
   "execution_count": 9,
   "metadata": {},
   "outputs": [
    {
     "name": "stdout",
     "output_type": "stream",
     "text": [
      "foobar002\n"
     ]
    },
    {
     "data": {
      "text/plain": [
       "'foobar002'"
      ]
     },
     "execution_count": 9,
     "metadata": {},
     "output_type": "execute_result"
    }
   ],
   "source": [
    "\"\"\"\n",
    "\n",
    "Your job is to write a function which increments a string, to create a new string.\n",
    "\n",
    "If the string already ends with a number, the number should be incremented by 1.\n",
    "If the string does not end with a number. the number 1 should be appended to the new string.\n",
    "Examples:\n",
    "\n",
    "foo -> foo1\n",
    "\n",
    "foobar23 -> foobar24\n",
    "\n",
    "foo0042 -> foo0043\n",
    "\n",
    "foo9 -> foo10\n",
    "\n",
    "foo099 -> foo100\n",
    "\n",
    "Attention: If the number has leading zeros the amount of digits should be considered.\n",
    "\n",
    "\"\"\"\n",
    "\n",
    "import re\n",
    "\n",
    "def increment_string(strng):\n",
    "    match = re.search(\"(\\d*)$\", strng)\n",
    "    if match:\n",
    "        number = match.group(0)\n",
    "        if number != \"\":\n",
    "            print( strng[:-len(number)] + str(int(number) + 1).zfill(len(number)) )\n",
    "            return strng[:-len(number)] + str(int(number) + 1).zfill(len(number))\n",
    "    return strng + \"1\"\n",
    "\n",
    "\n",
    "increment_string(\"foobar001\")# réponse attendue: \"foobar002\"\n",
    "\n"
   ]
  },
  {
   "cell_type": "code",
   "execution_count": 10,
   "metadata": {},
   "outputs": [
    {
     "name": "stdout",
     "output_type": "stream",
     "text": [
      "foobar01\n"
     ]
    },
    {
     "data": {
      "text/plain": [
       "'foobar01'"
      ]
     },
     "execution_count": 10,
     "metadata": {},
     "output_type": "execute_result"
    }
   ],
   "source": [
    "increment_string(\"foobar00\")# réponse attendue: \"foobar01\""
   ]
  },
  {
   "cell_type": "code",
   "execution_count": 11,
   "metadata": {},
   "outputs": [
    {
     "name": "stdout",
     "output_type": "stream",
     "text": [
      "foobar100\n"
     ]
    },
    {
     "data": {
      "text/plain": [
       "'foobar100'"
      ]
     },
     "execution_count": 11,
     "metadata": {},
     "output_type": "execute_result"
    }
   ],
   "source": [
    "increment_string(\"foobar099\")# réponse attendue: \"foobar100\""
   ]
  },
  {
   "cell_type": "code",
   "execution_count": 12,
   "metadata": {},
   "outputs": [
    {
     "data": {
      "text/plain": [
       "'1'"
      ]
     },
     "execution_count": 12,
     "metadata": {},
     "output_type": "execute_result"
    }
   ],
   "source": [
    "increment_string(\"\") #réponse attendue: \"1\""
   ]
  },
  {
   "cell_type": "code",
   "execution_count": null,
   "metadata": {},
   "outputs": [],
   "source": []
  }
 ],
 "metadata": {
  "kernelspec": {
   "display_name": "Python 3",
   "language": "python",
   "name": "python3"
  },
  "language_info": {
   "codemirror_mode": {
    "name": "ipython",
    "version": 3
   },
   "file_extension": ".py",
   "mimetype": "text/x-python",
   "name": "python",
   "nbconvert_exporter": "python",
   "pygments_lexer": "ipython3",
   "version": "3.8.2"
  }
 },
 "nbformat": 4,
 "nbformat_minor": 4
}
