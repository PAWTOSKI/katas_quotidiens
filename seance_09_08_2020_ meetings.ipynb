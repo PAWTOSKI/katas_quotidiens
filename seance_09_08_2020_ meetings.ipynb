{
 "cells": [
  {
   "cell_type": "code",
   "execution_count": null,
   "metadata": {},
   "outputs": [],
   "source": [
    "\"\"\"John has invited some friends. His list is:\n",
    "\n",
    "s = \"Fred:Corwill;Wilfred:Corwill;Barney:Tornbull;Betty:Tornbull;Bjon:Tornbull;Raphael:Corwill;Alfred:Corwill\";\n",
    "Could you make a program that makes this string uppercase\n",
    "gives it sorted in alphabetical order by last name.\n",
    "When the last names are the same, sort them by first name. Last name and first name of a guest come in the result \n",
    "between parentheses separated by a comma.\n",
    "\n",
    "So the result of function meeting(s) will be:\n",
    "\n",
    "\"(CORWILL, ALFRED)(CORWILL, FRED)(CORWILL, RAPHAEL)(CORWILL, WILFRED)(TORNBULL, BARNEY)(TORNBULL, BETTY)(TORNBULL, BJON)\"\n",
    "It can happen that in two distinct families with the same family name two people have the same first name too.\n",
    "\n",
    "Notes\n",
    "You can see another examples in the \"Sample tests\". \"\"\""
   ]
  },
  {
   "cell_type": "code",
   "execution_count": null,
   "metadata": {},
   "outputs": [],
   "source": []
  },
  {
   "cell_type": "code",
   "execution_count": 6,
   "metadata": {},
   "outputs": [
    {
     "name": "stdout",
     "output_type": "stream",
     "text": [
      "<generator object <genexpr> at 0x00000224DB33B0B0>\n"
     ]
    }
   ],
   "source": [
    "def meeting(s):\n",
    "    liste=[i,j for i,j in m ]\n",
    "    print( liste)\n",
    "    "
   ]
  },
  {
   "cell_type": "code",
   "execution_count": 2,
   "metadata": {},
   "outputs": [
    {
     "data": {
      "text/plain": [
       "'(ARNO,ANN)(BELL,JOHN)(CORNWELL,ALEX)(DORNY,ABBA)(KERN,LEWIS)(KORN,ALEX)(META,GRACE)(SCHWARZ,VICTORIA)(STAN,MADISON)(STAN,MEGAN)(WAHL,ALEXIS)'"
      ]
     },
     "execution_count": 2,
     "metadata": {},
     "output_type": "execute_result"
    }
   ],
   "source": [
    "def meeting(s):\n",
    "    s=(s.replace(':',';')).split(';')\n",
    "\n",
    "    liste=sorted( [ ((s[j].upper() ,s[i].upper() )) for i,j in zip(  [m for m in range(0,len(s)) if m%2==0] ,[n for n in range(0, len(s)) if n%2!=0]) ])\n",
    "    liste_=''\n",
    "    for i in liste:\n",
    "        liste_+=f'({i[0]},{i[1]})' \n",
    "    return liste_ \n",
    "\n",
    "meeting(\"Alexis:Wahl;John:Bell;Victoria:Schwarz;Abba:Dorny;Grace:Meta;Ann:Arno;Madison:STAN;Alex:Cornwell;Lewis:Kern;Megan:Stan;Alex:Korn\")\n",
    "        #réponse attendue: \"(ARNO, ANN)(BELL, JOHN)(CORNWELL, ALEX)(DORNY, ABBA)(KERN, LEWIS)(KORN, ALEX)(META, GRACE)(SCHWARZ, VICTORIA)(STAN, MADISON)(STAN, MEGAN)(WAHL, ALEXIS)\"       "
   ]
  },
  {
   "cell_type": "code",
   "execution_count": 3,
   "metadata": {},
   "outputs": [
    {
     "data": {
      "text/plain": [
       "'(BELL,MEGAN)(CORNWELL,AMBER)(DORNY,JAMES)(DORRIES,PAUL)(GATES,JOHN)(KERN,ANN)(KORN,ANNA)(META,ALEX)(RUSSEL,ELIZABETH)(STEVE,LEWIS)(WAHL,MICHAEL)'"
      ]
     },
     "execution_count": 3,
     "metadata": {},
     "output_type": "execute_result"
    }
   ],
   "source": [
    "meeting( \"John:Gates;Michael:Wahl;Megan:Bell;Paul:Dorries;James:Dorny;Lewis:Steve;Alex:Meta;Elizabeth:Russel;Anna:Korn;Ann:Kern;Amber:Cornwell\" )\n",
    "        #réponse attendue: \"(BELL, MEGAN)(CORNWELL, AMBER)(DORNY, JAMES)(DORRIES, PAUL)(GATES, JOHN)(KERN, ANN)(KORN, ANNA)(META, ALEX)(RUSSEL, ELIZABETH)(STEVE, LEWIS)(WAHL, MICHAEL)\""
   ]
  },
  {
   "cell_type": "code",
   "execution_count": 4,
   "metadata": {},
   "outputs": [
    {
     "data": {
      "text/plain": [
       "'(ARNO,ALEX)(ARNO,HALEY)(BELL,SARAH)(CORNWELL,ALISSA)(DORNY,PAUL)(DORRIES,ANDREW)(KERN,ANN)(KERN,MADISON)'"
      ]
     },
     "execution_count": 4,
     "metadata": {},
     "output_type": "execute_result"
    }
   ],
   "source": [
    "meeting(\"Alex:Arno;Alissa:Cornwell;Sarah:Bell;Andrew:Dorries;Ann:Kern;Haley:Arno;Paul:Dorny;Madison:Kern\")\n",
    "#réponse attendue: \"(ARNO, ALEX)(ARNO, HALEY)(BELL, SARAH)(CORNWELL, ALISSA)(DORNY, PAUL)(DORRIES, ANDREW)(KERN, ANN)(KERN, MADISON)\""
   ]
  },
  {
   "cell_type": "code",
   "execution_count": null,
   "metadata": {},
   "outputs": [],
   "source": []
  }
 ],
 "metadata": {
  "kernelspec": {
   "display_name": "Python 3",
   "language": "python",
   "name": "python3"
  },
  "language_info": {
   "codemirror_mode": {
    "name": "ipython",
    "version": 3
   },
   "file_extension": ".py",
   "mimetype": "text/x-python",
   "name": "python",
   "nbconvert_exporter": "python",
   "pygments_lexer": "ipython3",
   "version": "3.8.2"
  }
 },
 "nbformat": 4,
 "nbformat_minor": 4
}
