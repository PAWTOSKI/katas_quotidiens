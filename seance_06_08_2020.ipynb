{
 "cells": [
  {
   "cell_type": "code",
   "execution_count": 6,
   "metadata": {},
   "outputs": [
    {
     "data": {
      "text/plain": [
       "'A B C'"
      ]
     },
     "execution_count": 6,
     "metadata": {},
     "output_type": "execute_result"
    }
   ],
   "source": [
    "\"\"\"\n",
    "Polycarpus works as a DJ in the best Berland nightclub, and he often uses dubstep music in his performance.\n",
    "Recently, he has decided to take a couple of old songs and make dubstep remixes from them.\n",
    "\n",
    "Let's assume that a song consists of some number of words (that don't contain WUB). To make the dubstep remix\n",
    "of this song, Polycarpus inserts a certain number of words \"WUB\" before the first word of the song (the number may be zero)\n",
    ", after the last word (the number may be zero), and between words (at least one between any pair of neighbouring words),\n",
    "and then the boy glues together all the words, including \"WUB\", in one string and plays the song at the club.\n",
    "\n",
    "For example, a song with words \"I AM X\" can transform into a dubstep remix as \"WUBWUBIWUBAMWUBWUBX\" and cannot transform into\n",
    "\"WUBWUBIAMWUBX\".\n",
    "\n",
    "Recently, Jonny has heard Polycarpus's new dubstep track, but since he isn't into modern music, he decided to find out what \n",
    "was the initial song that Polycarpus remixed. Help Jonny restore the original song.\n",
    "\n",
    "Input:\n",
    "The input consists of a single non-empty string, consisting only of uppercase English letters, the string's length \n",
    "doesn't exceed 200 characters\n",
    "\n",
    "Output:\n",
    "Return the words of the initial song that Polycarpus used to make a dubsteb remix. Separate the words with a space\n",
    "\n",
    "\n",
    "\n",
    "\"\"\"\n",
    "import re\n",
    "\n",
    "def song_decoder(song):\n",
    "   \n",
    "    song=re.sub(r'(WUB)+',' ',song)\n",
    "    song=re.sub(r'\\A | \\Z', '' , song)\n",
    "    \n",
    "    return song\n",
    "\n",
    "\n",
    "song_decoder(\"AWUBBWUBC\") #réponse attendue: \"A B C\""
   ]
  },
  {
   "cell_type": "code",
   "execution_count": 7,
   "metadata": {},
   "outputs": [
    {
     "data": {
      "text/plain": [
       "'A B C'"
      ]
     },
     "execution_count": 7,
     "metadata": {},
     "output_type": "execute_result"
    }
   ],
   "source": [
    "song_decoder(\"AWUBWUBWUBBWUBWUBWUBC\")#réponse attendue: \"A B C\""
   ]
  },
  {
   "cell_type": "code",
   "execution_count": 8,
   "metadata": {},
   "outputs": [
    {
     "data": {
      "text/plain": [
       "'A B C'"
      ]
     },
     "execution_count": 8,
     "metadata": {},
     "output_type": "execute_result"
    }
   ],
   "source": [
    "song_decoder(\"WUBAWUBBWUBCWUB\") #réponse attendue:  \"A B C\""
   ]
  },
  {
   "cell_type": "code",
   "execution_count": null,
   "metadata": {},
   "outputs": [],
   "source": []
  }
 ],
 "metadata": {
  "kernelspec": {
   "display_name": "Python 3",
   "language": "python",
   "name": "python3"
  },
  "language_info": {
   "codemirror_mode": {
    "name": "ipython",
    "version": 3
   },
   "file_extension": ".py",
   "mimetype": "text/x-python",
   "name": "python",
   "nbconvert_exporter": "python",
   "pygments_lexer": "ipython3",
   "version": "3.8.2"
  }
 },
 "nbformat": 4,
 "nbformat_minor": 4
}
