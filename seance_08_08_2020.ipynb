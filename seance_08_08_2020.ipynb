{
 "cells": [
  {
   "cell_type": "code",
   "execution_count": 46,
   "metadata": {},
   "outputs": [
    {
     "data": {
      "text/plain": [
       "230"
      ]
     },
     "execution_count": 46,
     "metadata": {},
     "output_type": "execute_result"
    }
   ],
   "source": [
    "\"\"\"John and Mary want to travel between a few towns A, B, C ... Mary has on a sheet of paper a list of distances between \n",
    "these towns. ls = [50, 55, 57, 58, 60]. John is tired of driving and he says to Mary that he doesn't want to drive more \n",
    "than t = 174 miles and he will visit only 3 towns.\n",
    "\n",
    "Which distances, hence which towns, they will choose so that the sum of the distances is the biggest possible to please \n",
    "Mary and John?\n",
    "\n",
    "Example:\n",
    "\n",
    "With list ls and 3 towns to visit they can make a choice between: [50,55,57],[50,55,58],[50,55,60],[50,57,58],[50,57,60]\n",
    ",[50,58,60],[55,57,58],[55,57,60],[55,58,60],[57,58,60].\n",
    "\n",
    "The sums of distances are then: 162, 163, 165, 165, 167, 168, 170, 172, 173, 175.\n",
    "\n",
    "The biggest possible sum taking a limit of 174 into account is then 173 and the distances of the 3 corresponding towns is \n",
    "[55, 58, 60].\n",
    "\n",
    "The function chooseBestSum (or choose_best_sum or ... depending on the language) will take as parameters t (maximum sum of \n",
    "distances, integer >= 0), k (number of towns to visit, k >= 1) and ls (list of distances, all distances are positive or null\n",
    "integers and this list has at least one element). The function returns the \"best\" sum ie the biggest possible sum of k \n",
    "distances less than or equal to the given limit t, if that sum exists, or otherwise nil, null, None, Nothing, depending on \n",
    "the language. With C++, C, Rust, Swift, Go, Kotlin return -1.\n",
    "\n",
    "Examples:\n",
    "ts = [50, 55, 56, 57, 58] choose_best_sum(163, 3, ts) -> 163\n",
    "xs = [50] choose_best_sum(163, 3, xs) -> nil (or null or ... or -1 (C++, C, Rust, Swift, Go)\n",
    "ys = [91, 74, 73, 85, 73, 81, 87] choose_best_sum(230, 3, ys) -> 228\"\"\"\n",
    "\n",
    "\n",
    "\n",
    "def choose_best_sum(t, k, list_):\n",
    "    import itertools\n",
    "    try:\n",
    "      \n",
    "        return max( c for c in (sum(m) for m in itertools.combinations(list_,k) if sum(m)<=t ))\n",
    "    except ValueError:\n",
    "       \n",
    "        return None\n",
    "\n",
    "xs = [100, 76, 56, 44, 89, 73, 68, 56, 64, 123, 2333, 144, 50, 132, 123, 34, 89]\n",
    "choose_best_sum(230, 4, xs)#réponse attendue :230\n",
    "\n",
    "\n"
   ]
  },
  {
   "cell_type": "code",
   "execution_count": 42,
   "metadata": {},
   "outputs": [
    {
     "data": {
      "text/plain": [
       "430"
      ]
     },
     "execution_count": 42,
     "metadata": {},
     "output_type": "execute_result"
    }
   ],
   "source": [
    "choose_best_sum(430, 5, xs)# réponse attendue :430"
   ]
  },
  {
   "cell_type": "code",
   "execution_count": 45,
   "metadata": {},
   "outputs": [],
   "source": [
    "choose_best_sum(430, 8, xs) #réponse attendue: None"
   ]
  },
  {
   "cell_type": "code",
   "execution_count": null,
   "metadata": {},
   "outputs": [],
   "source": []
  }
 ],
 "metadata": {
  "kernelspec": {
   "display_name": "Python 3",
   "language": "python",
   "name": "python3"
  },
  "language_info": {
   "codemirror_mode": {
    "name": "ipython",
    "version": 3
   },
   "file_extension": ".py",
   "mimetype": "text/x-python",
   "name": "python",
   "nbconvert_exporter": "python",
   "pygments_lexer": "ipython3",
   "version": "3.8.2"
  }
 },
 "nbformat": 4,
 "nbformat_minor": 4
}
